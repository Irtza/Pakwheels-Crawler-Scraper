{
 "cells": [
  {
   "cell_type": "code",
   "execution_count": null,
   "metadata": {
    "collapsed": true
   },
   "outputs": [],
   "source": [
    "# Written By: \n",
    "# github/irtza ... irtzali@gmail.com\n",
    "# Modified By Kuldeep Kumar 13bscskkumar@seecs.edu.pk\n",
    "# Crawling and Scraping Pakwheels.com for Advertisement Images to generate a general Car-DataSet. deep-ALPR test Set..\n",
    "# Fair-use only..\n",
    "# For educational Purposes only"
   ]
  },
  {
   "cell_type": "code",
   "execution_count": null,
   "metadata": {
    "collapsed": true
   },
   "outputs": [],
   "source": [
    "# Basic Libraries \n",
    "import pandas as pd\n",
    "import requests as req\n",
    "import urllib2 as urllib2\n",
    "import numpy as np\n",
    "from bs4 import BeautifulSoup"
   ]
  },
  {
   "cell_type": "code",
   "execution_count": null,
   "metadata": {
    "collapsed": false
   },
   "outputs": [],
   "source": [
    "# Scraps given pages whose quantity can be managed by iterative variable I set for first 35 pages.\n",
    "# Beautifies the HTML fetched from the server\n",
    "# Look for specific Ad Tags\n",
    "# Extract Image src from the images tags\n",
    "# Append to a list of links of all the Images \n",
    "\n",
    "\n",
    "def RequesterAndSimplifier():\n",
    "    links = []\n",
    "    url = \"http://www.pakwheels.com/used-cars/search/-/\"\n",
    "    for i in range(35):\n",
    "        try:\n",
    "            print i\n",
    "            r = req.get(url)\n",
    "            print r\n",
    "            soup = BeautifulSoup(r.content)\n",
    "            ad_data = soup.find_all(\"li\" , {\"class\":\"classified-listing  \"})\n",
    "            ads = []\n",
    "            for item in ad_data:\n",
    "                ads.append(item.find_all(\"img\", {\"class\":\"lazy pic\"}))\n",
    "            content = []\n",
    "            for ad in ads:\n",
    "                if  ad:\n",
    "                    content.append(ad.pop())\n",
    "            for item in content:\n",
    "                links.append(item.get(\"data-original\"))\n",
    "            print \"links appended\"\n",
    "            url = \"http://www.pakwheels.com/used-cars/search/-/?page=\" + str(i+1)\n",
    "        except:\n",
    "            print \"Exception\"\n",
    "            i = i - 1;\n",
    "            continue\n",
    "    \n",
    "        \n",
    "        \n",
    "    print \"Total Links: \", len(links)\n",
    "    return links"
   ]
  },
  {
   "cell_type": "code",
   "execution_count": null,
   "metadata": {
    "collapsed": false
   },
   "outputs": [],
   "source": [
    "# Download the images from the given list.\n",
    "# Format the downloading Image as \"ID-COMPANY-MODEL-YEAR-DATE\"\n",
    "def download_images_from_list_of_links(links):\n",
    "    un = 693;\n",
    "    for link in links:\n",
    "        try:\n",
    "            \n",
    "            response = urllib2.urlopen(link)\n",
    "            print \"downloading from \", link\n",
    "            rfname = link.split('/')[-1]\n",
    "            rfname = rfname.split('_')[-1];\n",
    "            un = un + 1;\n",
    "            local_file = open(\"images/\"+str(un)+\"-\" + rfname, \"wb\")\n",
    "            local_file.write(response.read())\n",
    "            local_file.close()\n",
    "            \n",
    "        except urllib2.HTTPError, e:\n",
    "            print \"HTTP error \",item\n",
    "        except urllib2.URLError , e:\n",
    "            print \"URL error \", item\n",
    "            \n",
    "    print \"DONE downloading!\""
   ]
  },
  {
   "cell_type": "code",
   "execution_count": null,
   "metadata": {
    "collapsed": false,
    "scrolled": true
   },
   "outputs": [],
   "source": [
    "# Calling the above function for fetching all the links of the Images\n",
    "links  = RequesterAndSimplifier()"
   ]
  },
  {
   "cell_type": "code",
   "execution_count": null,
   "metadata": {
    "collapsed": false,
    "scrolled": false
   },
   "outputs": [],
   "source": [
    "# Calling the above function for downloading all the links of the Images fetched above.\n",
    "download_images_from_list_of_links(links)"
   ]
  },
  {
   "cell_type": "code",
   "execution_count": null,
   "metadata": {
    "collapsed": true
   },
   "outputs": [],
   "source": []
  }
 ],
 "metadata": {
  "kernelspec": {
   "display_name": "Python 2",
   "language": "python",
   "name": "python2"
  },
  "language_info": {
   "codemirror_mode": {
    "name": "ipython",
    "version": 2
   },
   "file_extension": ".py",
   "mimetype": "text/x-python",
   "name": "python",
   "nbconvert_exporter": "python",
   "pygments_lexer": "ipython2",
   "version": "2.7.12"
  }
 },
 "nbformat": 4,
 "nbformat_minor": 0
}
